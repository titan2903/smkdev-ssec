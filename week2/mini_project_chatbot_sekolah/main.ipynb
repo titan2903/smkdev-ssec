{
 "cells": [
  {
   "cell_type": "markdown",
   "id": "d173532a",
   "metadata": {},
   "source": [
    "# Mini Proyek 1: Chatbot Sekolah Sederhana\n",
    "\n",
    "## Deskripsi Tugas\n",
    "Membuat chatbot interaktif yang bisa menjawab pertanyaan umum siswa seperti \"jadwal\", \"nilai\", atau \"guru\"."
   ]
  },
  {
   "cell_type": "markdown",
   "id": "adfdecb4",
   "metadata": {},
   "source": [
    "## Langkah 1: Membuat Set Kata Kunci"
   ]
  },
  {
   "cell_type": "code",
   "execution_count": 1,
   "id": "7dcb22ff",
   "metadata": {},
   "outputs": [
    {
     "name": "stdout",
     "output_type": "stream",
     "text": [
      "Set kata kunci sudah dibuat:\n",
      "Jadwal: {'jam', 'schedule', 'jadwal'}\n",
      "Guru: {'guru', 'teacher', 'pengajar'}\n",
      "Nilai: {'nilai', 'score', 'grade'}\n"
     ]
    }
   ],
   "source": [
    "# Set kata kunci untuk setiap topik\n",
    "kata_jadwal = {\"jadwal\", \"schedule\", \"jam\"}\n",
    "kata_guru = {\"guru\", \"teacher\", \"pengajar\"}\n",
    "kata_nilai = {\"nilai\", \"grade\", \"score\"}\n",
    "\n",
    "print(\"Set kata kunci sudah dibuat:\")\n",
    "print(f\"Jadwal: {kata_jadwal}\")\n",
    "print(f\"Guru: {kata_guru}\")\n",
    "print(f\"Nilai: {kata_nilai}\")"
   ]
  },
  {
   "cell_type": "markdown",
   "id": "e2bc084b",
   "metadata": {},
   "source": [
    "## Langkah 2: Membuat Fungsi chatbot_response()"
   ]
  },
  {
   "cell_type": "code",
   "execution_count": 8,
   "id": "df17e4d2",
   "metadata": {},
   "outputs": [
    {
     "name": "stdout",
     "output_type": "stream",
     "text": [
      "Test fungsi chatbot_response:\n",
      "Input: 'jadwal hari ini'\n",
      "Output: Jadwal pelajaran: Senin-Jumat 08:00-15:00. Matematika di pagi hari, IPA siang hari.\n",
      "\n",
      "Input: 'siapa guru matematika?'\n",
      "Output: Guru-guru kami: Pak Budi (Matematika), Bu Sari (Bahasa Indonesia), Pak Ahmad (IPA).\n"
     ]
    }
   ],
   "source": [
    "def chatbot_response(pesan):\n",
    "    # Ubah ke huruf kecil agar tidak sensitif case\n",
    "    pesan = pesan.lower()\n",
    "    \n",
    "    # Cek kata kunci jadwal\n",
    "    if any(kata in pesan for kata in kata_jadwal):\n",
    "        return \"Jadwal pelajaran: Senin-Jumat 08:00-15:00. Matematika di pagi hari, IPA siang hari.\"\n",
    "    \n",
    "    # Cek kata kunci guru\n",
    "    elif any(kata in pesan for kata in kata_guru):\n",
    "        return \"Guru-guru kami: Pak Budi (Matematika), Bu Sari (Bahasa Indonesia), Pak Ahmad (IPA).\"\n",
    "    \n",
    "    # Cek kata kunci nilai\n",
    "    elif any(kata in pesan for kata in kata_nilai):\n",
    "        return \"Untuk cek nilai, hubungi wali kelas atau lihat di portal siswa. Nilai terdiri dari tugas, ujian, dan keaktifan.\"\n",
    "    \n",
    "    # Jika tidak ada kata kunci yang cocok\n",
    "    else:\n",
    "        return \"Maaf, saya hanya bisa menjawab tentang jadwal, guru, atau nilai. Coba tanya yang lain!\"\n",
    "\n",
    "# Test fungsi\n",
    "print(\"Test fungsi chatbot_response:\")\n",
    "print(\"Input: 'jadwal hari ini'\")\n",
    "print(\"Output:\", chatbot_response(\"jadwal hari ini\"))\n",
    "print()\n",
    "print(\"Input: 'siapa guru matematika?'\")\n",
    "print(\"Output:\", chatbot_response(\"siapa guru matematika?\"))"
   ]
  },
  {
   "cell_type": "markdown",
   "id": "f10ba72d",
   "metadata": {},
   "source": [
    "## Langkah 3: Program Utama Interaktif"
   ]
  },
  {
   "cell_type": "code",
   "execution_count": 10,
   "id": "bdb9d652",
   "metadata": {},
   "outputs": [
    {
     "name": "stdout",
     "output_type": "stream",
     "text": [
      "=== DEMO CHATBOT ===\n",
      "Anda: jadwal kelas\n",
      "Chatbot: Jadwal pelajaran: Senin-Jumat 08:00-15:00. Matematika di pagi hari, IPA siang hari.\n",
      "\n",
      "Anda: guru matematika\n",
      "Chatbot: Guru-guru kami: Pak Budi (Matematika), Bu Sari (Bahasa Indonesia), Pak Ahmad (IPA).\n",
      "\n",
      "Anda: cek nilai\n",
      "Chatbot: Untuk cek nilai, hubungi wali kelas atau lihat di portal siswa. Nilai terdiri dari tugas, ujian, dan keaktifan.\n",
      "\n",
      "Anda: test dong brody\n",
      "Chatbot: Maaf, saya hanya bisa menjawab tentang jadwal, guru, atau nilai. Coba tanya yang lain!\n",
      "\n"
     ]
    }
   ],
   "source": [
    "def jalankan_chatbot():\n",
    "    print(\"=== CHATBOT SEKOLAH ===\")\n",
    "    print(\"Halo! Saya bisa menjawab tentang jadwal, guru, atau nilai.\")\n",
    "    print(\"Ketik 'selesai' untuk keluar.\")\n",
    "    print(\"-\" * 30)\n",
    "    \n",
    "    while True:\n",
    "        # Minta input dari pengguna\n",
    "        user_input = input(\"Anda: \")\n",
    "        \n",
    "        # Cek jika user ingin keluar\n",
    "        if user_input.lower() == \"selesai\":\n",
    "            print(\"Chatbot: Terima kasih! Sampai jumpa!\")\n",
    "            break\n",
    "        \n",
    "        # Dapatkan respons dari chatbot\n",
    "        respons = chatbot_response(user_input)\n",
    "        print(f\"Chatbot: {respons}\")\n",
    "        print()\n",
    "\n",
    "# Uncomment baris di bawah untuk menjalankan chatbot\n",
    "# jalankan_chatbot()\n",
    "\n",
    "# Demo sederhana tanpa input\n",
    "print(\"=== DEMO CHATBOT ===\")\n",
    "demo_inputs = [\"jadwal kelas\", \"guru matematika\", \"cek nilai\", \"test dong brody\"]\n",
    "\n",
    "for demo_input in demo_inputs:\n",
    "    print(f\"Anda: {demo_input}\")\n",
    "    print(f\"Chatbot: {chatbot_response(demo_input)}\")\n",
    "    print()"
   ]
  },
  {
   "cell_type": "markdown",
   "id": "ca6038de",
   "metadata": {},
   "source": [
    "## Validasi Checklist"
   ]
  },
  {
   "cell_type": "code",
   "execution_count": 4,
   "id": "569847cb",
   "metadata": {},
   "outputs": [
    {
     "name": "stdout",
     "output_type": "stream",
     "text": [
      "=== VALIDASI CHECKLIST ===\n",
      "\n",
      "✓ Program berjalan interaktif: Ada fungsi jalankan_chatbot()\n",
      "✓ Fungsi chatbot_response(): Ada dan berfungsi\n",
      "✓ Menggunakan set: set = {'jam', 'schedule', 'jadwal'}\n",
      "✓ Case insensitive: 'JADWAL' → Jadwal pelajaran: Senin-Jumat ...\n",
      "\n",
      "Semua checklist ✓ TERPENUHI!\n"
     ]
    }
   ],
   "source": [
    "print(\"=== VALIDASI CHECKLIST ===\")\n",
    "print()\n",
    "\n",
    "# 1. Program berjalan interaktif\n",
    "print(\"✓ Program berjalan interaktif: Ada fungsi jalankan_chatbot()\")\n",
    "\n",
    "# 2. Fungsi chatbot_response() memberikan respon sesuai kata kunci\n",
    "print(\"✓ Fungsi chatbot_response(): Ada dan berfungsi\")\n",
    "\n",
    "# 3. Menggunakan set untuk menyimpan kata kunci\n",
    "print(f\"✓ Menggunakan set: {type(kata_jadwal).__name__} = {kata_jadwal}\")\n",
    "\n",
    "# 4. Program tidak sensitif terhadap huruf besar/kecil\n",
    "test_case = chatbot_response(\"JADWAL\")\n",
    "print(f\"✓ Case insensitive: 'JADWAL' → {test_case[:30]}...\")\n",
    "\n",
    "print()\n",
    "print(\"Semua checklist ✓ TERPENUHI!\")"
   ]
  },
  {
   "cell_type": "markdown",
   "id": "aad8c0c4",
   "metadata": {},
   "source": [
    "## Pertanyaan Refleksi\n",
    "\n",
    "### 1. Apa keuntungan menggunakan set untuk menyimpan kata kunci?\n",
    "\n",
    "**Jawaban:**\n",
    "- **Pencarian cepat**: Set menggunakan hash table, jadi pencarian kata kunci sangat cepat\n",
    "- **Tidak ada duplikasi**: Set otomatis menghilangkan kata yang sama\n",
    "- **Mudah digunakan**: Bisa pakai operator `in` untuk cek apakah kata ada\n",
    "\n",
    "### 2. Apa yang terjadi jika pengguna mengetik kata yang tidak dikenali?\n",
    "\n",
    "**Jawaban:**\n",
    "- Chatbot akan memberikan pesan default: \"Maaf, saya hanya bisa menjawab tentang jadwal, guru, atau nilai\"\n",
    "- Program tidak error atau crash\n",
    "- User diberi tahu topik apa saja yang bisa ditanyakan"
   ]
  },
  {
   "cell_type": "code",
   "execution_count": 5,
   "id": "ea20fd23",
   "metadata": {},
   "outputs": [
    {
     "name": "stdout",
     "output_type": "stream",
     "text": [
      "=== CARA MENJALANKAN CHATBOT ===\n",
      "\n",
      "1. Jalankan semua cell di atas\n",
      "2. Uncomment baris: jalankan_chatbot()\n",
      "3. Jalankan cell tersebut\n",
      "4. Ketik pertanyaan tentang jadwal, guru, atau nilai\n",
      "5. Ketik 'selesai' untuk keluar\n",
      "\n",
      "=== CONTOH PERTANYAAN ===\n",
      "- jadwal pelajaran\n",
      "- siapa guru matematika\n",
      "- bagaimana cara cek nilai\n",
      "- JADWAL (huruf besar juga bisa)\n",
      "\n",
      "✓ Chatbot sederhana siap digunakan!\n"
     ]
    }
   ],
   "source": [
    "print(\"=== CARA MENJALANKAN CHATBOT ===\")\n",
    "print()\n",
    "print(\"1. Jalankan semua cell di atas\")\n",
    "print(\"2. Uncomment baris: jalankan_chatbot()\")\n",
    "print(\"3. Jalankan cell tersebut\")\n",
    "print(\"4. Ketik pertanyaan tentang jadwal, guru, atau nilai\")\n",
    "print(\"5. Ketik 'selesai' untuk keluar\")\n",
    "print()\n",
    "print(\"=== CONTOH PERTANYAAN ===\")\n",
    "print(\"- jadwal pelajaran\")\n",
    "print(\"- siapa guru matematika\")\n",
    "print(\"- bagaimana cara cek nilai\")\n",
    "print(\"- JADWAL (huruf besar juga bisa)\")\n",
    "print()\n",
    "print(\"✓ Chatbot sederhana siap digunakan!\")"
   ]
  }
 ],
 "metadata": {
  "kernelspec": {
   "display_name": "base",
   "language": "python",
   "name": "python3"
  },
  "language_info": {
   "codemirror_mode": {
    "name": "ipython",
    "version": 3
   },
   "file_extension": ".py",
   "mimetype": "text/x-python",
   "name": "python",
   "nbconvert_exporter": "python",
   "pygments_lexer": "ipython3",
   "version": "3.12.8"
  }
 },
 "nbformat": 4,
 "nbformat_minor": 5
}
