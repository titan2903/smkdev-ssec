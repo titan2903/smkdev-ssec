{
 "cells": [
  {
   "cell_type": "markdown",
   "id": "d50dae68",
   "metadata": {},
   "source": [
    "# Mini Project: API Logger\n",
    "\n",
    "**Tujuan:** Mengambil data dari API dan mengelola log status permintaan secara efisien.\n",
    "\n",
    "## Requirements:\n",
    "1. Ambil data dari `https://jsonplaceholder.typicode.com/posts/1`\n",
    "2. Periksa field `title` dan `body` pada response\n",
    "3. Simpan data ke file `data_api.json`\n",
    "4. Catat status log ke file `log_api.txt` dengan format `[timestamp] STATUS - URL`\n",
    "5. Gunakan try-except untuk error handling\n",
    "6. **Bonus:** Opsi pilih ID post dan tampilkan cuplikan 100 karakter body"
   ]
  },
  {
   "cell_type": "code",
   "execution_count": 46,
   "id": "ae221196",
   "metadata": {},
   "outputs": [],
   "source": [
    "# Import library yang diperlukan\n",
    "import requests\n",
    "import json\n",
    "import datetime\n",
    "import os"
   ]
  },
  {
   "cell_type": "code",
   "execution_count": 47,
   "id": "1af204d3",
   "metadata": {},
   "outputs": [],
   "source": [
    "def tulis_log(status, url, pesan_error=None):\n",
    "    \"\"\"Menulis log ke file log_api.txt\"\"\"\n",
    "    timestamp = datetime.datetime.now().strftime(\"%Y-%m-%d %H:%M:%S\")\n",
    "    \n",
    "    if pesan_error:\n",
    "        log_message = f\"[{timestamp}] {status} - {url} - {pesan_error}\\n\"\n",
    "    else:\n",
    "        log_message = f\"[{timestamp}] {status} - {url}\\n\"\n",
    "    \n",
    "    with open(\"log_api.txt\", \"a\", encoding=\"utf-8\") as file:\n",
    "        file.write(log_message)\n",
    "    \n",
    "    print(f\"Log: {log_message.strip()}\")"
   ]
  },
  {
   "cell_type": "code",
   "execution_count": 48,
   "id": "9bd5d738",
   "metadata": {},
   "outputs": [
    {
     "name": "stdout",
     "output_type": "stream",
     "text": [
      "Test Requirement Utama:\n",
      "========================================\n",
      "Mengambil data dari: https://jsonplaceholder.typicode.com/posts/1\n",
      "Log: [2025-07-03 14:07:49] SUCCESS - https://jsonplaceholder.typicode.com/posts/1\n",
      "\n",
      " Data berhasil disimpan!\n",
      "Title: sunt aut facere repellat provident occaecati excepturi optio reprehenderit\n",
      "Body (100 karakter): quia et suscipit\n",
      "suscipit recusandae consequuntur expedita et cum\n",
      "reprehenderit molestiae ut ut quas...\n"
     ]
    },
    {
     "data": {
      "text/plain": [
       "True"
      ]
     },
     "execution_count": 48,
     "metadata": {},
     "output_type": "execute_result"
    }
   ],
   "source": [
    "def ambil_data_api(post_id=1):\n",
    "    \"\"\"Fungsi utama untuk mengambil data dari API\"\"\"\n",
    "    url = f\"https://jsonplaceholder.typicode.com/posts/{post_id}\"\n",
    "    \n",
    "    try:\n",
    "        print(f\"Mengambil data dari: {url}\")\n",
    "        \n",
    "        # Request ke API\n",
    "        response = requests.get(url, timeout=10)\n",
    "        response.raise_for_status()  # Akan error jika status bukan 200\n",
    "        \n",
    "        # Parse JSON\n",
    "        data = response.json()\n",
    "        \n",
    "        # Periksa field title dan body\n",
    "        if 'title' not in data or 'body' not in data:\n",
    "            raise ValueError(\"Field 'title' atau 'body' tidak ditemukan\")\n",
    "        \n",
    "        # Simpan data ke file JSON\n",
    "        with open(\"data_api.json\", \"w\", encoding=\"utf-8\") as file:\n",
    "            json.dump(data, file, indent=2, ensure_ascii=False)\n",
    "        \n",
    "        # Log sukses\n",
    "        tulis_log(\"SUCCESS\", url)\n",
    "        \n",
    "        # Tampilkan hasil\n",
    "        print(f\"\\n Data berhasil disimpan!\")\n",
    "        print(f\"Title: {data['title']}\")\n",
    "        print(f\"Body (100 karakter): {data['body'][:100]}...\")\n",
    "        \n",
    "        return True\n",
    "        \n",
    "    # Handle semua error requests (ConnectionError, Timeout, dll)\n",
    "    except requests.exceptions.RequestException as e:\n",
    "        error_msg = f\"Request error: {str(e)}\"\n",
    "        tulis_log(\"FAIL\", url, error_msg)\n",
    "        print(f\"{error_msg}\")\n",
    "        return False\n",
    "        \n",
    "    # Handle error lainnya\n",
    "    except Exception as e:\n",
    "        error_msg = f\"Error: {str(e)}\"\n",
    "        tulis_log(\"FAIL\", url, error_msg)\n",
    "        print(f\"{error_msg}\")\n",
    "        return False\n",
    "\n",
    "# Test requirement utama - ambil data post ID 1\n",
    "print(\"Test Requirement Utama:\")\n",
    "print(\"=\" * 40)\n",
    "ambil_data_api(1)"
   ]
  },
  {
   "cell_type": "code",
   "execution_count": 49,
   "id": "ae9be3de",
   "metadata": {},
   "outputs": [],
   "source": [
    "# Bonus: Fungsi untuk memilih ID post\n",
    "def pilih_post():\n",
    "    \"\"\"Bonus: Memilih ID post secara interaktif\"\"\"\n",
    "    print(\"Bonus: Pilih ID Post\")\n",
    "    \n",
    "    try:\n",
    "        post_id = int(input(\"Masukkan ID post (1-100): \"))\n",
    "        \n",
    "        if 1 <= post_id <= 100:\n",
    "            ambil_data_api(post_id)\n",
    "        else:\n",
    "            print(\"ID post harus antara 1-100\")\n",
    "            \n",
    "    except ValueError:\n",
    "        print(\"Masukkan angka yang valid\")"
   ]
  },
  {
   "cell_type": "code",
   "execution_count": 50,
   "id": "d21a3228",
   "metadata": {},
   "outputs": [
    {
     "name": "stdout",
     "output_type": "stream",
     "text": [
      "Demo Error Handling:\n",
      "========================================\n",
      "Test 1: Post ID yang tidak ada\n",
      "Mengambil data dari: https://jsonplaceholder.typicode.com/posts/999\n",
      "Log: [2025-07-03 14:07:49] FAIL - https://jsonplaceholder.typicode.com/posts/999 - Request error: 404 Client Error: Not Found for url: https://jsonplaceholder.typicode.com/posts/999\n",
      "Request error: 404 Client Error: Not Found for url: https://jsonplaceholder.typicode.com/posts/999\n",
      "\n",
      "Test 2: Post ID valid\n",
      "Mengambil data dari: https://jsonplaceholder.typicode.com/posts/5\n",
      "Log: [2025-07-03 14:07:50] SUCCESS - https://jsonplaceholder.typicode.com/posts/5\n",
      "\n",
      " Data berhasil disimpan!\n",
      "Title: nesciunt quas odio\n",
      "Body (100 karakter): repudiandae veniam quaerat sunt sed\n",
      "alias aut fugiat sit autem sed est\n",
      "voluptatem omnis possimus ess...\n",
      "Log: [2025-07-03 14:07:50] SUCCESS - https://jsonplaceholder.typicode.com/posts/5\n",
      "\n",
      " Data berhasil disimpan!\n",
      "Title: nesciunt quas odio\n",
      "Body (100 karakter): repudiandae veniam quaerat sunt sed\n",
      "alias aut fugiat sit autem sed est\n",
      "voluptatem omnis possimus ess...\n"
     ]
    },
    {
     "data": {
      "text/plain": [
       "True"
      ]
     },
     "execution_count": 50,
     "metadata": {},
     "output_type": "execute_result"
    }
   ],
   "source": [
    "# Demo error handling\n",
    "print(\"Demo Error Handling:\")\n",
    "print(\"=\" * 40)\n",
    "\n",
    "# Test post yang tidak ada (akan error 404)\n",
    "print(\"Test 1: Post ID yang tidak ada\")\n",
    "ambil_data_api(999)\n",
    "\n",
    "print(\"\\nTest 2: Post ID valid\")\n",
    "ambil_data_api(5)"
   ]
  },
  {
   "cell_type": "code",
   "execution_count": 51,
   "id": "5efca743",
   "metadata": {},
   "outputs": [
    {
     "name": "stdout",
     "output_type": "stream",
     "text": [
      "File Hasil:\n",
      "========================================\n",
      "data_api.json:\n",
      "{\n",
      "  \"userId\": 1,\n",
      "  \"id\": 5,\n",
      "  \"title\": \"nesciunt quas odio\",\n",
      "  \"body\": \"repudiandae veniam quaerat sunt sed\\nalias aut fugiat sit autem sed est\\nvoluptatem omnis possimus esse voluptatibus quis\\nest aut tenetur dolor neque\"\n",
      "}\n",
      "\n",
      " log_api.txt:\n",
      "[2025-07-03 14:03:53] SUCCESS - https://jsonplaceholder.typicode.com/posts/1\n",
      "[2025-07-03 14:03:54] FAIL - https://jsonplaceholder.typicode.com/posts/999 - Request error: 404 Client Error: Not Found for url: https://jsonplaceholder.typicode.com/posts/999\n",
      "[2025-07-03 14:03:54] SUCCESS - https://jsonplaceholder.typicode.com/posts/5\n",
      "[2025-07-03 14:03:54] SUCCESS - https://jsonplaceholder.typicode.com/posts/1\n",
      "[2025-07-03 14:07:49] SUCCESS - https://jsonplaceholder.typicode.com/posts/1\n",
      "[2025-07-03 14:07:49] FAIL - https://jsonplaceholder.typicode.com/posts/999 - Request error: 404 Client Error: Not Found for url: https://jsonplaceholder.typicode.com/posts/999\n",
      "[2025-07-03 14:07:50] SUCCESS - https://jsonplaceholder.typicode.com/posts/5\n",
      "\n"
     ]
    }
   ],
   "source": [
    "# Lihat hasil file yang dibuat\n",
    "def lihat_hasil():\n",
    "    \"\"\"Menampilkan isi file yang dibuat\"\"\"\n",
    "    print(\"File Hasil:\")\n",
    "    print(\"=\" * 40)\n",
    "    \n",
    "    # Lihat data_api.json\n",
    "    if os.path.exists(\"data_api.json\"):\n",
    "        print(\"data_api.json:\")\n",
    "        with open(\"data_api.json\", \"r\", encoding=\"utf-8\") as file:\n",
    "            print(file.read())\n",
    "    \n",
    "    print(\"\\n log_api.txt:\")\n",
    "    if os.path.exists(\"log_api.txt\"):\n",
    "        with open(\"log_api.txt\", \"r\", encoding=\"utf-8\") as file:\n",
    "            print(file.read())\n",
    "\n",
    "# Tampilkan hasil\n",
    "lihat_hasil()"
   ]
  },
  {
   "cell_type": "markdown",
   "id": "55f16ff7",
   "metadata": {},
   "source": [
    "## Checklist Requirements\n",
    "\n",
    "1. **✅ Ambil data dari API** - `https://jsonplaceholder.typicode.com/posts/1`\n",
    "2. **✅ Periksa field title dan body** - Validasi ada di fungsi `ambil_data_api()`\n",
    "3. **✅ Simpan ke data_api.json** - File JSON dengan format rapi\n",
    "4. **✅ Log ke log_api.txt** - Format `[timestamp] STATUS - URL`\n",
    "5. **✅ Try-except error handling** - Handle `requests.exceptions` dan `Exception`\n",
    "6. **✅ Bonus: Pilih ID post** - Fungsi `pilih_post()`\n",
    "7. **✅ Bonus: Cuplikan 100 karakter** - Preview body di output\n",
    "\n",
    "## Cara Penggunaan:\n",
    "\n",
    "```python\n",
    "# Requirement utama\n",
    "ambil_data_api(1)\n",
    "\n",
    "# Bonus - pilih ID custom\n",
    "ambil_data_api(5)  # atau ID lainnya\n",
    "\n",
    "# Lihat file hasil\n",
    "lihat_hasil()\n",
    "```\n",
    "\n",
    "**Semua requirement sudah terpenuhi dengan kode yang sederhana dan jelas!**"
   ]
  }
 ],
 "metadata": {
  "kernelspec": {
   "display_name": "base",
   "language": "python",
   "name": "python3"
  },
  "language_info": {
   "codemirror_mode": {
    "name": "ipython",
    "version": 3
   },
   "file_extension": ".py",
   "mimetype": "text/x-python",
   "name": "python",
   "nbconvert_exporter": "python",
   "pygments_lexer": "ipython3",
   "version": "3.12.8"
  }
 },
 "nbformat": 4,
 "nbformat_minor": 5
}
