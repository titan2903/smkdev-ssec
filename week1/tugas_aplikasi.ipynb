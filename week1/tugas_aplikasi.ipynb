{
 "cells": [
  {
   "cell_type": "markdown",
   "id": "6abb7db2",
   "metadata": {},
   "source": [
    "# Mini Project: Game Tebak Angka\n",
    "\n",
    "Program sederhana untuk menebak angka rahasia antara 1-10 dengan 3 kesempatan."
   ]
  },
  {
   "cell_type": "code",
   "execution_count": 15,
   "id": "326e86a0",
   "metadata": {},
   "outputs": [],
   "source": [
    "import random"
   ]
  },
  {
   "cell_type": "code",
   "execution_count": 16,
   "id": "c39db43e",
   "metadata": {},
   "outputs": [
    {
     "name": "stdout",
     "output_type": "stream",
     "text": [
      "Selamat datang di permainan Tebak Angka!\n",
      "Tebak angka dari 1 sampai 10. Kamu punya 3 kesempatan.\n",
      "Terlalu kecil!\n",
      "Terlalu kecil!\n",
      "Terlalu kecil!\n",
      "Terlalu kecil!\n",
      "Terlalu kecil!\n",
      "Permainan Selesai\n",
      "Angka yang benar adalah: 10\n",
      "Terlalu kecil!\n",
      "Permainan Selesai\n",
      "Angka yang benar adalah: 10\n"
     ]
    }
   ],
   "source": [
    "# Game Tebak Angka\n",
    "angka_rahasia = random.randint(1, 10)\n",
    "kesempatan = 3\n",
    "\n",
    "print(\"Selamat datang di permainan Tebak Angka!\")\n",
    "print(f\"Tebak angka dari 1 sampai 10. Kamu punya {kesempatan} kesempatan.\")\n",
    "\n",
    "for i in range(kesempatan):\n",
    "    tebakan = int(input(f\"Tebakan ke-{i+1}: \"))\n",
    "    \n",
    "    if tebakan == angka_rahasia:\n",
    "        print(\"Selamat! Tebakanmu benar.\")\n",
    "        break\n",
    "    elif tebakan < angka_rahasia:\n",
    "        print(\"Terlalu kecil!\")\n",
    "    else:\n",
    "        print(\"Terlalu besar!\")\n",
    "else:\n",
    "    print(f\"Permainan Selesai\")\n",
    "    print(f\"Angka yang benar adalah: {angka_rahasia}\")"
   ]
  }
 ],
 "metadata": {
  "kernelspec": {
   "display_name": "jupyter-env",
   "language": "python",
   "name": "jupyter-env"
  },
  "language_info": {
   "codemirror_mode": {
    "name": "ipython",
    "version": 3
   },
   "file_extension": ".py",
   "mimetype": "text/x-python",
   "name": "python",
   "nbconvert_exporter": "python",
   "pygments_lexer": "ipython3",
   "version": "3.12.11"
  }
 },
 "nbformat": 4,
 "nbformat_minor": 5
}
